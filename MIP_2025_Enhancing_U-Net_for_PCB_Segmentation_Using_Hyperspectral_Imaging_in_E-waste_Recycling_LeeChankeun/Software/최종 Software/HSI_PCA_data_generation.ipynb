{
 "cells": [
  {
   "cell_type": "code",
   "id": "aeec63fc0fc77ae3",
   "metadata": {},
   "source": [
    "# Loading the dataset function\n",
    "from dataset_functions import *\n",
    "from PCA_functions import *\n"
   ],
   "outputs": [],
   "execution_count": null
  },
  {
   "cell_type": "code",
   "id": "c74b76d4",
   "metadata": {},
   "source": [
    "# Loading Dataset\n",
    "dataset_path = r\"PCBDataset/\"\n",
    "HSI, HSI_general_masks, HSI_monoseg_masks, RGB, RGB_monoseg_masks, RGB_general_masks, PCB_Masks = read_dataset(dataset_path)\n"
   ],
   "outputs": [],
   "execution_count": null
  },
  {
   "cell_type": "code",
   "id": "aa6c32ed",
   "metadata": {},
   "source": [
    "# Clipping values outside [0, 1] range\n",
    "HSI = clipping_neg_pos(HSI)"
   ],
   "outputs": [],
   "execution_count": null
  },
  {
   "cell_type": "code",
   "id": "4704f47b",
   "metadata": {},
   "source": [
    "# Discarding the first 10 bands (noisy)\n",
    "HSI = slicing(HSI,10)\n",
    "HSI[0].shape"
   ],
   "outputs": [],
   "execution_count": null
  },
  {
   "cell_type": "code",
   "id": "3ba09d3c",
   "metadata": {},
   "source": [
    "# HSI manual dataset splitting: 33% training - 5% Validation - 56% Testing\n",
    "training = [1,3,8,11,17,22,23,24,25,32,34,44,45,47,49,50,52,53]\n",
    "validation = [18, 37, 42] \n",
    "testing = [2, 5, 6, 7, 9, 10, 12, 13, 14, 15, 16, 19, 20, 21, 26, 27, 28, 29, 30, 31, 33, 36, 38, 39, 40, 41, 43, 46, 48, 51]"
   ],
   "outputs": [],
   "execution_count": null
  },
  {
   "cell_type": "markdown",
   "id": "f129ee6f",
   "metadata": {},
   "source": [
    "# Data Generation"
   ]
  },
  {
   "cell_type": "code",
   "id": "3d4ff752",
   "metadata": {},
   "source": [
    "# Creating & Augmenting the training HS cubes\n",
    "\n",
    "# For working with general ground truth change 'HSI_monoseg_masks' to 'HSI_general_masks' !!\n",
    "Training_cubes, Training_masks = Generate_Training_data(training, HSI, HSI_general_masks)\n",
    "len(Training_cubes), Training_cubes[0].shape, len(Training_masks), np.min(Training_cubes[0]), np.max(Training_cubes[0])"
   ],
   "outputs": [],
   "execution_count": null
  },
  {
   "cell_type": "code",
   "id": "a4acaf3a",
   "metadata": {},
   "source": [
    "# Validation cubes\n",
    "\n",
    "# For working with general ground truth change 'HSI_monoseg_masks' to 'HSI_general_masks' !!\n",
    "Validation_cubes, Validation_masks = Generate_data(validation, HSI, HSI_general_masks)\n",
    "len(Validation_cubes), Validation_cubes[0].shape, np.min(Validation_cubes[0]), np.max(Validation_cubes[0])"
   ],
   "outputs": [],
   "execution_count": null
  },
  {
   "cell_type": "code",
   "id": "521ffb20",
   "metadata": {},
   "source": [
    "# Test cubes\n",
    "\n",
    "# For working with general ground truth change 'HSI_monoseg_masks' to 'HSI_general_masks' !!\n",
    "Testing_cubes, Testing_masks = Generate_data(testing, HSI, HSI_general_masks)\n",
    "len(Testing_cubes), Testing_cubes[0].shape, len(Testing_masks), np.min(Testing_cubes[0]), np.max(Testing_cubes[0])"
   ],
   "outputs": [],
   "execution_count": null
  },
  {
   "cell_type": "markdown",
   "id": "13330891",
   "metadata": {},
   "source": [
    "# PCA"
   ]
  },
  {
   "cell_type": "code",
   "id": "5414b838",
   "metadata": {
    "scrolled": true
   },
   "source": [
    "# Training PCA\n",
    "\n",
    "# Create an empty list to store the PCA-transformed training data\n",
    "Training_PCA = []\n",
    "\n",
    "# Iterate over the training cubes\n",
    "for i, img in enumerate(Training_cubes):\n",
    "    # # Print the current iteration number and the total number of training cubes\n",
    "    print(i, len(Training_cubes))\n",
    "\n",
    "    # Apply PCA to the current cube and append the transformed data to the list\n",
    "    Training_PCA.append(PCA2(img, 3))\n",
    "\n",
    "# Visualize the first PCA-transformed cube\n",
    "plt.imshow(Training_PCA[0][:, :, :3])  # Display the first three channels of the transformed cube\n",
    "plt.show()\n",
    "\n",
    "# Display the number of cubes and the shape of the transformed data\n",
    "print(len(Training_PCA), Training_PCA[0].shape)"
   ],
   "outputs": [],
   "execution_count": null
  },
  {
   "cell_type": "code",
   "id": "ec4c20d6",
   "metadata": {},
   "source": [
    "# Saving training PCA \n",
    "\n",
    "for i, (cube, mask) in enumerate(zip(Training_PCA, Training_masks)):\n",
    "    \"\"\"\n",
    "    Iterate over the PCA-transformed training cubes and their corresponding masks, saving them to separate files\n",
    "\n",
    "    Parameters:\n",
    "        i (int): Iteration index\n",
    "        cube (numpy.ndarray): PCA-transformed training cube\n",
    "        mask (numpy.ndarray): Corresponding training mask\n",
    "    \"\"\"\n",
    "    \n",
    "    # Define saving path\n",
    "    saving_path =  \"PCBDataset/pca/train/\"     # e.g.,: /home/PCBvision/PCA/train/\n",
    "    \n",
    "    # Construct the filename for the PCA-transformed cube\n",
    "    filename = f\"{saving_path}{i}.hdr\"\n",
    "\n",
    "    # Save the PCA-transformed cube to an ENVI header file\n",
    "    envi.save_image(filename, cube, dtype=np.float32, ext=None, force=True)\n",
    "\n",
    "    # Construct the filename for the training mask\n",
    "    filename = f\"{saving_path}{i}.npy\"\n",
    "\n",
    "    # Save the training mask to a NumPy file\n",
    "    np.save(filename, mask)"
   ],
   "outputs": [],
   "execution_count": null
  },
  {
   "cell_type": "code",
   "id": "6b150c91",
   "metadata": {},
   "source": [
    "# Validation PCA\n",
    "\n",
    "# Create an empty list to store the PCA-transformed validation data\n",
    "Validation_PCA = []  \n",
    "\n",
    "# Iterate over the validation cubes\n",
    "for i, val_img in enumerate(Validation_cubes):  \n",
    "\n",
    "    # Apply PCA to the current cube and append the transformed data to the list\n",
    "    Validation_PCA.append(PCA2(val_img, 3))  \n",
    "\n",
    "# Display the first three channels of the transformed validation cube\n",
    "plt.imshow(Validation_PCA[0][:, :, :3])  \n",
    "plt.show()\n",
    "\n",
    "# Print the length and shape of the PCA-transformed validation data\n",
    "print(len(Validation_PCA), Validation_PCA[0].shape)  "
   ],
   "outputs": [],
   "execution_count": null
  },
  {
   "cell_type": "code",
   "id": "03f575f9",
   "metadata": {},
   "source": [
    "# Saving validation PCA \n",
    "\n",
    "for i, (cube, mask) in enumerate(zip(Validation_PCA, Validation_masks)):\n",
    "    \"\"\"\n",
    "    Save the PCA-transformed validation data and their corresponding masks to separate files\n",
    "\n",
    "    Parameters:\n",
    "        i (int): Iteration index\n",
    "        cube (numpy.ndarray): PCA-transformed validation cube\n",
    "        mask (numpy.ndarray): Corresponding validation mask\n",
    "    \"\"\"\n",
    "    # Define saving path\n",
    "    saving_path =  \"PCBDataset/pca/validation/\"     # e.g.,: /home/PCBvision/PCA/validation/\n",
    "    \n",
    "    # Construct the filename for the PCA-transformed cube\n",
    "    filename = f\"{saving_path}{i}.hdr\"\n",
    "\n",
    "    # Save the PCA-transformed cube to an ENVI header file\n",
    "    envi.save_image(filename, cube, dtype=np.float32, ext=None, force=True)\n",
    "\n",
    "    # Construct the filename for the validation mask\n",
    "    filename = f\"{saving_path}{i}.npy\"\n",
    "\n",
    "    # Save the validation mask to a NumPy file\n",
    "    np.save(filename, mask)"
   ],
   "outputs": [],
   "execution_count": null
  },
  {
   "cell_type": "code",
   "id": "da57de45",
   "metadata": {},
   "source": [
    "# Test PCA\n",
    "\n",
    "# Create an empty list to store the PCA-transformed testing data\n",
    "Testing_PCA = []  \n",
    "\n",
    "# Iterate over the testing cubes\n",
    "for i, test_img in enumerate(Testing_cubes):  \n",
    "\n",
    "    # Apply PCA to the current cube and append the transformed data to the list\n",
    "    Testing_PCA.append(PCA2(test_img, 3))  \n",
    "\n",
    "# Display the first three channels of the transformed testing cube\n",
    "plt.imshow(Testing_PCA[0][:, :, :3])  \n",
    "plt.show()\n",
    "\n",
    "# Print the length and shape of the PCA-transformed testing data\n",
    "print(len(Testing_PCA), Testing_PCA[0].shape)"
   ],
   "outputs": [],
   "execution_count": null
  },
  {
   "cell_type": "code",
   "id": "39b7cdbd",
   "metadata": {},
   "source": [
    "# Saving testing PCA \n",
    "\n",
    "for i, (cube, mask) in enumerate(zip(Testing_PCA, Testing_masks)):\n",
    "    \"\"\"\n",
    "    Save the PCA-transformed testing data and their corresponding masks to separate files.\n",
    "\n",
    "    Parameters:\n",
    "        i (int): Iteration index\n",
    "        cube (numpy.ndarray): PCA-transformed testing cube\n",
    "        mask (numpy.ndarray): Corresponding testing mask\n",
    "    \"\"\"\n",
    "    # Define saving path\n",
    "    saving_path =  \"PCBDataset/pca/test/\"\n",
    "    \n",
    "    # Construct the filename for the PCA-transformed cube\n",
    "    filename = f\"{saving_path}{i}.hdr\"\n",
    "    \n",
    "    # Save the PCA-transformed cube to an ENVI header file\n",
    "    envi.save_image(filename, cube, dtype=np.float32, ext=None, force=True)\n",
    "\n",
    "    # Construct the filename for the testing mask\n",
    "    filename = f\"{saving_path}{i}.npy\"\n",
    "\n",
    "    # Save the testing mask to a NumPy file\n",
    "    np.save(filename, mask)"
   ],
   "outputs": [],
   "execution_count": null
  }
 ],
 "metadata": {
  "kernelspec": {
   "display_name": "Python 3",
   "language": "python",
   "name": "python3"
  },
  "language_info": {
   "codemirror_mode": {
    "name": "ipython",
    "version": 3
   },
   "file_extension": ".py",
   "mimetype": "text/x-python",
   "name": "python",
   "nbconvert_exporter": "python",
   "pygments_lexer": "ipython3",
   "version": "3.12.11"
  }
 },
 "nbformat": 4,
 "nbformat_minor": 5
}
