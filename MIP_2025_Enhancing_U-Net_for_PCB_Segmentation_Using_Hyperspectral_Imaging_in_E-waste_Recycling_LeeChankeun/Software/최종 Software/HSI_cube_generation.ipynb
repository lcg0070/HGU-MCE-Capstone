{
 "cells": [
  {
   "cell_type": "code",
   "id": "cfddc883",
   "metadata": {},
   "source": [
    "# Loading the dataset function\n",
    "from dataset_functions import *\n",
    "from patches_functions import *"
   ],
   "outputs": [],
   "execution_count": null
  },
  {
   "cell_type": "code",
   "id": "de5fff91",
   "metadata": {},
   "source": [
    "# Loading Dataset\n",
    "dataset_path = r\"PCBDataset/\"\n",
    "HSI, HSI_general_masks, HSI_monoseg_masks, RGB, RGB_monoseg_masks, RGB_general_masks, PCB_Masks = read_dataset(dataset_path)\n"
   ],
   "outputs": [],
   "execution_count": null
  },
  {
   "cell_type": "code",
   "id": "628b9b8e",
   "metadata": {},
   "source": [
    "# Clipping values outside [0, 1] range\n",
    "HSI = clipping_neg_pos(HSI)"
   ],
   "outputs": [],
   "execution_count": null
  },
  {
   "cell_type": "code",
   "id": "7a46f570",
   "metadata": {},
   "source": [
    "# Discarding the first 10 bands (noisy)\n",
    "HSI = slicing(HSI,10)\n",
    "HSI[0].shape"
   ],
   "outputs": [],
   "execution_count": null
  },
  {
   "cell_type": "code",
   "id": "eed8e5e7",
   "metadata": {},
   "source": [
    "# HSI manual dataset splitting: 33% training - 5% Validation - 56% Testing\n",
    "training = [1,3,8,11,17,22,23,24,25,32,34,44,45,47,49,50,52,53]\n",
    "validation = [18, 37, 42] \n",
    "testing = [2, 5, 6, 7, 9, 10, 12, 13, 14, 15, 16, 19, 20, 21, 26, 27, 28, 29, 30, 31, 33, 36, 38, 39, 40, 41, 43, 46, 48, 51]"
   ],
   "outputs": [],
   "execution_count": null
  },
  {
   "cell_type": "markdown",
   "id": "03c99482",
   "metadata": {},
   "source": "## Data generation"
  },
  {
   "cell_type": "code",
   "id": "18621169",
   "metadata": {},
   "source": [
    "# Creating & Augmenting the training HS cubes\n",
    "\n",
    "\n",
    "Training_cubes, Training_masks = Generate_Training_data(training, HSI, HSI_general_masks)\n",
    "len(Training_cubes), Training_cubes[0].shape, len(Training_masks), np.min(Training_cubes[0]), np.max(Training_cubes[0])"
   ],
   "outputs": [],
   "execution_count": null
  },
  {
   "cell_type": "code",
   "id": "13491995",
   "metadata": {},
   "source": [
    "# Saving patches for later loading during models training (optional)\n",
    "\n",
    "for i, (cube, mask )in enumerate(zip(Training_cubes,Training_masks)):\n",
    "    \"\"\"\n",
    "    Iterate over the HS training patch and their corresponding masks, saving them to separate files\n",
    "\n",
    "    Parameters:\n",
    "        i (int): Iteration index\n",
    "        cube (numpy.ndarray): HS training patch\n",
    "        mask (numpy.ndarray): Corresponding training mask\n",
    "    \"\"\"\n",
    "    # Define saving path\n",
    "    saving_path = \"PCBDataset/cube/train/\"     # e.g.,: /home/PCBvision/PCA/train/\n",
    "    \n",
    "    # Construct the filename for the training patch\n",
    "    name = f\"{saving_path}{i}.hdr\"\n",
    "    \n",
    "    # Save the PCA-transformed cube to an ENVI header file\n",
    "    envi.save_image(name,cube,dtype=np.float32,ext = None, force = True)\n",
    "    \n",
    "    # Construct the filename for the training mask\n",
    "    name = f\"{saving_path}{i}.npy\"\n",
    "    \n",
    "    # Save the training mask to a NumPy file\n",
    "    np.save(name, mask)"
   ],
   "outputs": [],
   "execution_count": null
  },
  {
   "cell_type": "markdown",
   "id": "0dbffda1",
   "metadata": {},
   "source": [
    "## Validation Patches"
   ]
  },
  {
   "cell_type": "code",
   "id": "464948dc",
   "metadata": {},
   "source": [
    "# Validation cubes\n",
    "\n",
    "Validation_cubes, Validation_masks = Generate_data(validation, HSI, HSI_general_masks)\n",
    "len(Validation_cubes), Validation_cubes[0].shape, np.min(Validation_cubes[0]), np.max(Validation_cubes[0])"
   ],
   "outputs": [],
   "execution_count": null
  },
  {
   "cell_type": "code",
   "id": "e90aceef",
   "metadata": {},
   "source": [
    "# Saving patches for later loading during models training (optional!)\n",
    "\n",
    "for i, (cube, mask )in enumerate(zip(Validation_cubes,Validation_masks)):\n",
    "    \"\"\"\n",
    "    Iterate over the validation patche and their corresponding masks, saving them to separate files\n",
    "\n",
    "    Parameters:\n",
    "        i (int): Iteration index\n",
    "        cube (numpy.ndarray): HS validation patches\n",
    "        mask (numpy.ndarray): Corresponding training mask\n",
    "    \"\"\"\n",
    "    # Define saving path\n",
    "    saving_path = \"PCBDataset/cube/validation/\"\n",
    "    \n",
    "    # Construct the filename for the HS patch\n",
    "    filename = f\"{saving_path}{i}.hdr\"\n",
    "\n",
    "    # Save the HS patch to an ENVI header file\n",
    "    envi.save_image(filename,cube,dtype=np.float32,ext = None, force = True)\n",
    "    \n",
    "    # Construct the filename for the valiadtion mask\n",
    "    filename = f\"{saving_path}{i}.npy\"\n",
    "    \n",
    "    # Save the training mask to a NumPy file\n",
    "    np.save(filename, mask)"
   ],
   "outputs": [],
   "execution_count": null
  },
  {
   "cell_type": "markdown",
   "id": "ba30f773",
   "metadata": {},
   "source": [
    "## Testing Patches"
   ]
  },
  {
   "cell_type": "code",
   "id": "51787014",
   "metadata": {},
   "source": [
    "# Testing cubes\n",
    "\n",
    "# For working with general ground truth change 'HSI_monoseg_masks' to 'HSI_general_masks'\n",
    "Testing_cubes, Testing_masks = Generate_data(testing, HSI, HSI_general_masks)\n",
    "len(Testing_cubes), Testing_cubes[0].shape, len(Testing_masks), np.min(Testing_cubes[0]), np.max(Testing_cubes[0])"
   ],
   "outputs": [],
   "execution_count": null
  },
  {
   "cell_type": "code",
   "id": "5fb0a02d",
   "metadata": {},
   "source": [
    "for i, (cube, mask )in enumerate(zip(Testing_cubes,Testing_masks)):\n",
    "    \"\"\"\n",
    "    Iterate over the test patches and their corresponding masks, saving them to separate files\n",
    "\n",
    "    Parameters:\n",
    "        i (int): Iteration index\n",
    "        cube (numpy.ndarray): HS testing patch\n",
    "        mask (numpy.ndarray): Corresponding training mask\n",
    "    \"\"\"\n",
    "    # Define saving path\n",
    "    saving_path = \"PCBDataset/cube/test/\"\n",
    "    \n",
    "    # Construct the filename for the HS patch\n",
    "    filename = f\"{saving_path}{i}.hdr\"\n",
    "    \n",
    "    # Save the HS patch cube to an ENVI header file\n",
    "    envi.save_image(filename,cube,dtype=np.float32,ext = None,force = True)\n",
    "    \n",
    "    # Construct the filename for the testing mask\n",
    "    filename = f\"{saving_path}{i}.npy\"\n",
    "    \n",
    "    # Save the training mask to a NumPy file\n",
    "    np.save(filename, mask)"
   ],
   "outputs": [],
   "execution_count": null
  }
 ],
 "metadata": {
  "kernelspec": {
   "display_name": "Python 3 (ipykernel)",
   "language": "python",
   "name": "python3"
  },
  "language_info": {
   "codemirror_mode": {
    "name": "ipython",
    "version": 3
   },
   "file_extension": ".py",
   "mimetype": "text/x-python",
   "name": "python",
   "nbconvert_exporter": "python",
   "pygments_lexer": "ipython3",
   "version": "3.8.13"
  }
 },
 "nbformat": 4,
 "nbformat_minor": 5
}
