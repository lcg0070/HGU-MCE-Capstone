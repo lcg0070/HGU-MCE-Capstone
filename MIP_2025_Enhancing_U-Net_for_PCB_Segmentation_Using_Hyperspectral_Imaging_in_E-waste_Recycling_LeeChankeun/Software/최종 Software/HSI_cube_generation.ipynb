{
 "cells": [
  {
   "cell_type": "code",
   "id": "cfddc883",
   "metadata": {
    "ExecuteTime": {
     "end_time": "2025-06-10T12:37:27.195656Z",
     "start_time": "2025-06-10T12:37:18.219258Z"
    }
   },
   "source": [
    "# Loading the dataset function\n",
    "from dataset_functions import *\n",
    "from patches_functions import *"
   ],
   "outputs": [],
   "execution_count": 1
  },
  {
   "cell_type": "code",
   "id": "de5fff91",
   "metadata": {
    "ExecuteTime": {
     "end_time": "2025-06-10T12:37:30.083870Z",
     "start_time": "2025-06-10T12:37:27.216567Z"
    }
   },
   "source": [
    "# Loading Dataset\n",
    "dataset_path = r\"PCBDataset/\"\n",
    "HSI, HSI_general_masks, HSI_monoseg_masks, RGB, RGB_monoseg_masks, RGB_general_masks, PCB_Masks = read_dataset(dataset_path)\n"
   ],
   "outputs": [
    {
     "name": "stderr",
     "output_type": "stream",
     "text": [
      "  0%|          | 0/53 [00:00<?, ?it/s]C:\\Users\\sssl\\anaconda3\\envs\\chance\\Lib\\site-packages\\spectral\\io\\envi.py:187: UserWarning: Parameters with non-lowercase names encountered and converted to lowercase. To retain source file parameter name capitalization, set spectral.settings.envi_support_nonlowercase_params to True.\n",
      "  warnings.warn(msg)\n",
      "100%|██████████| 53/53 [00:02<00:00, 18.59it/s]"
     ]
    },
    {
     "name": "stdout",
     "output_type": "stream",
     "text": [
      "Dataset loading is complete.\n"
     ]
    },
    {
     "name": "stderr",
     "output_type": "stream",
     "text": [
      "\n"
     ]
    }
   ],
   "execution_count": 2
  },
  {
   "cell_type": "code",
   "id": "628b9b8e",
   "metadata": {
    "ExecuteTime": {
     "end_time": "2025-06-10T12:38:13.079381Z",
     "start_time": "2025-06-10T12:37:31.428989Z"
    }
   },
   "source": [
    "# Clipping values outside [0, 1] range\n",
    "HSI = clipping_neg_pos(HSI)"
   ],
   "outputs": [
    {
     "name": "stderr",
     "output_type": "stream",
     "text": [
      "100%|██████████| 53/53 [00:40<00:00,  1.30it/s]\n"
     ]
    },
    {
     "name": "stdout",
     "output_type": "stream",
     "text": [
      "Clipping data is complete. No more negative values.\n"
     ]
    }
   ],
   "execution_count": 3
  },
  {
   "cell_type": "code",
   "id": "7a46f570",
   "metadata": {
    "ExecuteTime": {
     "end_time": "2025-06-10T12:38:19.536205Z",
     "start_time": "2025-06-10T12:38:13.104278Z"
    }
   },
   "source": [
    "# Discarding the first 10 bands (noisy)\n",
    "HSI = slicing(HSI,10)\n",
    "HSI[0].shape"
   ],
   "outputs": [
    {
     "name": "stderr",
     "output_type": "stream",
     "text": [
      "100%|██████████| 53/53 [00:05<00:00,  9.33it/s]"
     ]
    },
    {
     "name": "stdout",
     "output_type": "stream",
     "text": [
      "Skipping first 10 bands\n",
      "The HS cubes have 214 channels, the first 10 are sliced out.\n"
     ]
    },
    {
     "name": "stderr",
     "output_type": "stream",
     "text": [
      "\n"
     ]
    },
    {
     "data": {
      "text/plain": [
       "(272, 499, 214)"
      ]
     },
     "execution_count": 4,
     "metadata": {},
     "output_type": "execute_result"
    }
   ],
   "execution_count": 4
  },
  {
   "cell_type": "code",
   "id": "eed8e5e7",
   "metadata": {
    "ExecuteTime": {
     "end_time": "2025-06-10T12:38:19.571900Z",
     "start_time": "2025-06-10T12:38:19.566077Z"
    }
   },
   "source": [
    "# HSI manual dataset splitting: 33% training - 5% Validation - 56% Testing\n",
    "training = [1,3,8,11,17,22,23,24,25,32,34,44,45,47,49,50,52,53]\n",
    "validation = [18, 37, 42] \n",
    "testing = [2, 5, 6, 7, 9, 10, 12, 13, 14, 15, 16, 19, 20, 21, 26, 27, 28, 29, 30, 31, 33, 36, 38, 39, 40, 41, 43, 46, 48, 51]"
   ],
   "outputs": [],
   "execution_count": 5
  },
  {
   "cell_type": "markdown",
   "id": "03c99482",
   "metadata": {},
   "source": "## Data generation"
  },
  {
   "cell_type": "code",
   "id": "18621169",
   "metadata": {
    "ExecuteTime": {
     "end_time": "2025-06-10T12:38:29.155416Z",
     "start_time": "2025-06-10T12:38:19.601772Z"
    }
   },
   "source": [
    "# Creating & Augmenting the training HS cubes\n",
    "\n",
    "# For working with general ground truth change 'HSI_monoseg_masks' to 'HSI_general_masks' !!\n",
    "Training_cubes, Training_masks = Generate_Training_data(training, HSI, HSI_general_masks)\n",
    "len(Training_cubes), Training_cubes[0].shape, len(Training_masks), np.min(Training_cubes[0]), np.max(Training_cubes[0])"
   ],
   "outputs": [
    {
     "data": {
      "text/plain": [
       "(126, (272, 499, 214), 126, 0.0, 1.0)"
      ]
     },
     "execution_count": 6,
     "metadata": {},
     "output_type": "execute_result"
    }
   ],
   "execution_count": 6
  },
  {
   "cell_type": "code",
   "id": "13491995",
   "metadata": {
    "ExecuteTime": {
     "end_time": "2025-06-10T12:39:36.607181Z",
     "start_time": "2025-06-10T12:38:31.508108Z"
    }
   },
   "source": [
    "# Saving patches for later loading during models training (optional)\n",
    "\n",
    "for i, (cube, mask )in enumerate(zip(Training_cubes,Training_masks)):\n",
    "    \"\"\"\n",
    "    Iterate over the HS training patch and their corresponding masks, saving them to separate files\n",
    "\n",
    "    Parameters:\n",
    "        i (int): Iteration index\n",
    "        cube (numpy.ndarray): HS training patch\n",
    "        mask (numpy.ndarray): Corresponding training mask\n",
    "    \"\"\"\n",
    "    # Define saving path\n",
    "    saving_path = \"PCBDataset/cube/train/\"     # e.g.,: /home/PCBvision/PCA/train/\n",
    "    \n",
    "    # Construct the filename for the training patch\n",
    "    name = f\"{saving_path}{i}.hdr\"\n",
    "    \n",
    "    # Save the PCA-transformed cube to an ENVI header file\n",
    "    envi.save_image(name,cube,dtype=np.float32,ext = None, force = True)\n",
    "    \n",
    "    # Construct the filename for the training mask\n",
    "    name = f\"{saving_path}{i}.npy\"\n",
    "    \n",
    "    # Save the training mask to a NumPy file\n",
    "    np.save(name, mask)"
   ],
   "outputs": [],
   "execution_count": 7
  },
  {
   "cell_type": "markdown",
   "id": "0dbffda1",
   "metadata": {},
   "source": [
    "## Validation Patches"
   ]
  },
  {
   "cell_type": "code",
   "id": "464948dc",
   "metadata": {
    "ExecuteTime": {
     "end_time": "2025-06-10T12:40:07.942180Z",
     "start_time": "2025-06-10T12:40:07.841527Z"
    }
   },
   "source": [
    "# Validation cubes\n",
    "\n",
    "# For working with general ground truth change 'HSI_monoseg_masks' to 'HSI_general_masks'\n",
    "Validation_cubes, Validation_masks = Generate_data(validation, HSI, HSI_general_masks)\n",
    "len(Validation_cubes), Validation_cubes[0].shape, np.min(Validation_cubes[0]), np.max(Validation_cubes[0])"
   ],
   "outputs": [
    {
     "data": {
      "text/plain": [
       "(3, (370, 560, 214), 0.0, 1.0)"
      ]
     },
     "execution_count": 8,
     "metadata": {},
     "output_type": "execute_result"
    }
   ],
   "execution_count": 8
  },
  {
   "cell_type": "code",
   "id": "e90aceef",
   "metadata": {
    "ExecuteTime": {
     "end_time": "2025-06-10T12:40:38.315269Z",
     "start_time": "2025-06-10T12:40:35.947762Z"
    }
   },
   "source": [
    "# Saving patches for later loading during models training (optional!)\n",
    "\n",
    "for i, (cube, mask )in enumerate(zip(Validation_cubes,Validation_masks)):\n",
    "    \"\"\"\n",
    "    Iterate over the validation patche and their corresponding masks, saving them to separate files\n",
    "\n",
    "    Parameters:\n",
    "        i (int): Iteration index\n",
    "        cube (numpy.ndarray): HS validation patches\n",
    "        mask (numpy.ndarray): Corresponding training mask\n",
    "    \"\"\"\n",
    "    # Define saving path\n",
    "    saving_path = \"PCBDataset/cube/validation/\"\n",
    "    \n",
    "    # Construct the filename for the HS patch\n",
    "    filename = f\"{saving_path}{i}.hdr\"\n",
    "\n",
    "    # Save the HS patch to an ENVI header file\n",
    "    envi.save_image(filename,cube,dtype=np.float32,ext = None, force = True)\n",
    "    \n",
    "    # Construct the filename for the valiadtion mask\n",
    "    filename = f\"{saving_path}{i}.npy\"\n",
    "    \n",
    "    # Save the training mask to a NumPy file\n",
    "    np.save(filename, mask)"
   ],
   "outputs": [],
   "execution_count": 9
  },
  {
   "cell_type": "markdown",
   "id": "ba30f773",
   "metadata": {},
   "source": [
    "## Testing Patches"
   ]
  },
  {
   "cell_type": "code",
   "id": "51787014",
   "metadata": {
    "ExecuteTime": {
     "end_time": "2025-06-10T12:40:49.157923Z",
     "start_time": "2025-06-10T12:40:48.790026Z"
    }
   },
   "source": [
    "# Testing cubes\n",
    "\n",
    "# For working with general ground truth change 'HSI_monoseg_masks' to 'HSI_general_masks'\n",
    "Testing_cubes, Testing_masks = Generate_data(testing, HSI, HSI_general_masks)\n",
    "len(Testing_cubes), Testing_cubes[0].shape, len(Testing_masks), np.min(Testing_cubes[0]), np.max(Testing_cubes[0])"
   ],
   "outputs": [
    {
     "data": {
      "text/plain": [
       "(30, (1100, 1024, 214), 30, 0.0, 1.0)"
      ]
     },
     "execution_count": 10,
     "metadata": {},
     "output_type": "execute_result"
    }
   ],
   "execution_count": 10
  },
  {
   "cell_type": "code",
   "id": "5fb0a02d",
   "metadata": {
    "ExecuteTime": {
     "end_time": "2025-06-10T12:57:20.678673Z",
     "start_time": "2025-06-10T12:56:54.003519Z"
    }
   },
   "source": [
    "for i, (cube, mask )in enumerate(zip(Testing_cubes,Testing_masks)):\n",
    "    \"\"\"\n",
    "    Iterate over the test patches and their corresponding masks, saving them to separate files\n",
    "\n",
    "    Parameters:\n",
    "        i (int): Iteration index\n",
    "        cube (numpy.ndarray): HS testing patch\n",
    "        mask (numpy.ndarray): Corresponding training mask\n",
    "    \"\"\"\n",
    "    # Define saving path\n",
    "    saving_path = \"PCBDataset/cube/test/\"\n",
    "    \n",
    "    # Construct the filename for the HS patch\n",
    "    filename = f\"{saving_path}{i}.hdr\"\n",
    "    \n",
    "    # Save the HS patch cube to an ENVI header file\n",
    "    envi.save_image(filename,cube,dtype=np.float32,ext = None,force = True)\n",
    "    \n",
    "    # Construct the filename for the testing mask\n",
    "    filename = f\"{saving_path}{i}.npy\"\n",
    "    \n",
    "    # Save the training mask to a NumPy file\n",
    "    np.save(filename, mask)"
   ],
   "outputs": [],
   "execution_count": 13
  }
 ],
 "metadata": {
  "kernelspec": {
   "display_name": "Python 3 (ipykernel)",
   "language": "python",
   "name": "python3"
  },
  "language_info": {
   "codemirror_mode": {
    "name": "ipython",
    "version": 3
   },
   "file_extension": ".py",
   "mimetype": "text/x-python",
   "name": "python",
   "nbconvert_exporter": "python",
   "pygments_lexer": "ipython3",
   "version": "3.8.13"
  }
 },
 "nbformat": 4,
 "nbformat_minor": 5
}
